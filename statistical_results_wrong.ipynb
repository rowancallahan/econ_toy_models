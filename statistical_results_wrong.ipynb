{
 "cells": [
  {
   "cell_type": "markdown",
   "metadata": {},
   "source": [
    "**A Discussion of the paper \"Most Research Results are Wrong\"**\n",
    "\n",
    "This Notebook is discussing the various ideas and simulations of the interesting ideas that are discussed in this paper.\n",
    "In particular this Note book will go over\n",
    "\n",
    "The paper starts out with three different variables that they use in their simulaiton studies\n",
    "\n",
    "$ \\alpha = Type I Error $\n",
    "\n",
    "\n",
    "$ R = \\frac{relationships_{true}}{relationships_{none}} $\n",
    "\n",
    "The author goes on to say that they will consider fields where only one relationship is true and that the pre study likelihood of a result being true where only one such true result exists is equal to the following.\n",
    "\n",
    "$ \\frac{R}{R+1} $\n",
    "\n",
    "This fraction can be made more clear through expansion and simplification.\n",
    "The author takes the specific case where only one relationship is true but by substituting in the variable T we can what they are getting at more clearly.\n",
    "\n",
    "In the terms of the author the pre study likelihood of a result being true is a simple fraction if we assume that all results are picked with uniform likelihood. Where $Relationships_{true}$ is the number of true relationships and $Relationships_{none}$ are the number of relationships that do not exist but can be tested.\n",
    "\n",
    "$  Likelihood_{true} = \\frac{Relationships_{true}}{Relationships_{true}+Relationships_{none}} $\n",
    "\n",
    "The likelihood of finding a true finding is also reflected in $ 1 - \\beta $ where $ \\beta$ is the type II error\n",
    "\n",
    "The likelihood of finding a false finding is reflected in the type 1 error rate called $\\alpha$\n",
    "\n",
    "The author goes on to explain that after a study has been performed there is a new metric that can be used called the \n",
    "\n",
    "\"_post predictive probability_\" Thereafter reffered to as the PPV.\n",
    "\n",
    "$ PPV = $\n",
    " (1 - β)R/(R - βR + α).\n",
    "\n",
    "This can be simplified by factoring out $1 -\\beta$ to get\n",
    "\n",
    "$PPV = \\frac{(1-\\beta)R}{(1-\\beta)R +\\alpha} $\n",
    "\n",
    "\n",
    "\n"
   ]
  },
  {
   "cell_type": "code",
   "execution_count": null,
   "metadata": {},
   "outputs": [],
   "source": []
  }
 ],
 "metadata": {
  "kernelspec": {
   "display_name": "Python 3",
   "language": "python",
   "name": "python3"
  },
  "language_info": {
   "codemirror_mode": {
    "name": "ipython",
    "version": 3
   },
   "file_extension": ".py",
   "mimetype": "text/x-python",
   "name": "python",
   "nbconvert_exporter": "python",
   "pygments_lexer": "ipython3",
   "version": "3.7.6"
  }
 },
 "nbformat": 4,
 "nbformat_minor": 4
}
